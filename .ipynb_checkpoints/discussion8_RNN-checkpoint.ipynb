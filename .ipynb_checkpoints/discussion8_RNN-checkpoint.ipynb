{
 "cells": [
  {
   "cell_type": "code",
   "execution_count": null,
   "metadata": {
    "id": "Fa-wW-TUVrf9"
   },
   "outputs": [],
   "source": [
    "\"\"\"\n",
    "EECS 445 - Introduction to Machine Learning\n",
    "Winter 2021 - Discussion 8 - RNN\n",
    "\"\"\"\n",
    "\n",
    "import numpy as np\n",
    "import pandas as pd\n",
    "import matplotlib.pyplot as plt\n",
    "\n",
    "np.set_printoptions(precision=1, floatmode='fixed', linewidth=200, suppress=True)"
   ]
  },
  {
   "cell_type": "code",
   "execution_count": null,
   "metadata": {
    "id": "1t_pqG8rVrgF"
   },
   "outputs": [],
   "source": [
    "# create a sequence classification instance\n",
    "def get_sequence():\n",
    "    # random the input sequence with length [5, 15]\n",
    "    n_timesteps = np.random.randint(5, 16)\n",
    "    # create a sequence of random numbers in [0, 1]\n",
    "    x = np.array([np.random.random() for _ in range(n_timesteps)]).round(1)\n",
    "    # calculate cut-off value to change class values\n",
    "    limit = 3\n",
    "    # determine the class outcome for each item in cumulative sequence\n",
    "    y = np.array([0. if x < limit else 1. for x in np.cumsum(x)])\n",
    "    return x, y"
   ]
  },
  {
   "cell_type": "code",
   "execution_count": null,
   "metadata": {
    "colab": {
     "base_uri": "https://localhost:8080/"
    },
    "id": "AIK3dzQzVrgI",
    "outputId": "1c124117-3f4f-49e0-ff89-b6c5ca866eec"
   },
   "outputs": [
    {
     "name": "stdout",
     "output_type": "stream",
     "text": [
      "x \t [0.9 0.7 0.2 0.4 0.3 0.8 0.9]\n",
      "cumsum\t [0.9 1.6 1.8 2.2 2.5 3.3 4.2]\n",
      "y\t [0.0 0.0 0.0 0.0 0.0 1.0 1.0]\n"
     ]
    }
   ],
   "source": [
    "x, y = get_sequence()\n",
    "print('x \\t', x)\n",
    "print('cumsum\\t', np.cumsum(x))\n",
    "print('y\\t', y)"
   ]
  },
  {
   "cell_type": "markdown",
   "metadata": {
    "id": "yXnM6SwUWYWW"
   },
   "source": [
    "## Architecture\n",
    "- Simple Memory Cell\n",
    "- Sequence-to-sequence Vanilla RNN"
   ]
  },
  {
   "cell_type": "code",
   "execution_count": null,
   "metadata": {
    "id": "2KR0efLV3gss"
   },
   "outputs": [],
   "source": [
    "import torch\n",
    "import torch.nn as nn\n",
    "import torch.nn.functional as F"
   ]
  },
  {
   "cell_type": "code",
   "execution_count": null,
   "metadata": {
    "id": "vyOj0X6zVrgL"
   },
   "outputs": [],
   "source": [
    "# (x_t, h_{t-1} -> h_t)\n",
    "class MemoryCell(nn.Module):\n",
    "    def __init__(self, input_size, hidden_size):\n",
    "        super().__init__()\n",
    "        self.i2h = ??\n",
    "    \n",
    "    def forward(self, x_t, h_prev):\n",
    "        ???\n",
    "        return h_t"
   ]
  },
  {
   "cell_type": "code",
   "execution_count": null,
   "metadata": {
    "id": "R2EDVG_UVrgO"
   },
   "outputs": [],
   "source": [
    "class Seq2Seq(nn.Module): # sequence-to-sequence vanilla RNN\n",
    "    def __init__(self, input_size, hidden_size, output_size):\n",
    "        super().__init__()\n",
    "        self.hidden_size = hidden_size\n",
    "        self.??? = ???\n",
    "    \n",
    "    def forward(self, x):\n",
    "        T, D = x.shape\n",
    "        ???\n",
    "        return ???\n",
    "    \n",
    "    def init_hidden(self):\n",
    "        return ???"
   ]
  },
  {
   "cell_type": "markdown",
   "metadata": {
    "id": "F2AMt7_VXF2s"
   },
   "source": [
    "## Train model"
   ]
  },
  {
   "cell_type": "code",
   "execution_count": null,
   "metadata": {
    "id": "zqoNN5WRVrgT"
   },
   "outputs": [],
   "source": [
    "# Hyper Parameters\n",
    "INPUT_SIZE = 1       # rnn input size\n",
    "LR = 0.005           # learning rate"
   ]
  },
  {
   "cell_type": "code",
   "execution_count": null,
   "metadata": {
    "id": "3dFZP6YrVrgQ"
   },
   "outputs": [],
   "source": [
    "model = Seq2Seq(1, 4, 1)\n",
    "optimizer = torch.optim.Adam(model.parameters(), lr=LR)\n",
    "loss_func = nn.BCELoss()"
   ]
  },
  {
   "cell_type": "code",
   "execution_count": null,
   "metadata": {
    "id": "ZDMbI_mnVrgZ"
   },
   "outputs": [],
   "source": [
    "for iteration in range(10000):\n",
    "    if (iteration % 1000 == 0):\n",
    "        print(iteration)\n",
    "    x, y = get_sequence()\n",
    "    x, y = torch.from_numpy(x.reshape(-1, 1)).float(), torch.from_numpy(y).float()\n",
    "    \n",
    "    predictions = model(x)\n",
    "    loss = loss_func(predictions, y)        # calculate loss\n",
    "    optimizer.zero_grad()                   # clear gradients for this training step\n",
    "    loss.backward()                         # backpropagation, compute gradients\n",
    "    optimizer.step()                        # apply gradients"
   ]
  },
  {
   "cell_type": "code",
   "execution_count": null,
   "metadata": {
    "id": "-07vKdn1Vrgc"
   },
   "outputs": [],
   "source": [
    "with torch.no_grad():\n",
    "    x_test, y_test = get_sequence()\n",
    "    y_pred = model(torch.from_numpy(x_test.reshape(-1,1)).float())\n",
    "\n",
    "    print('x   \\t', x_test)\n",
    "    print('cumsum\\t', np.cumsum(x_test))\n",
    "    print('y   \\t', y_test)\n",
    "    print('pred\\t', y_pred.numpy())"
   ]
  },
  {
   "cell_type": "code",
   "execution_count": null,
   "metadata": {
    "id": "p8F4MK0rVrge"
   },
   "outputs": [],
   "source": [
    ""
   ]
  }
 ],
 "metadata": {
  "colab": {
   "collapsed_sections": [],
   "name": "discussion8_RNN.ipynb",
   "provenance": []
  },
  "kernelspec": {
   "display_name": "Python 3",
   "language": "python",
   "name": "python3"
  }
 },
 "nbformat": 4,
 "nbformat_minor": 0
}
